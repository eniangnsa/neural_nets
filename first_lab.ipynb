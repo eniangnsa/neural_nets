{
 "cells": [
  {
   "cell_type": "markdown",
   "metadata": {},
   "source": [
    "###  Task 1 and Variant 1\n"
   ]
  },
  {
   "cell_type": "markdown",
   "metadata": {},
   "source": [
    "![](task_1.jpg)"
   ]
  },
  {
   "cell_type": "markdown",
   "metadata": {},
   "source": [
    "### Description of what i did."
   ]
  },
  {
   "cell_type": "markdown",
   "metadata": {},
   "source": [
    "$$\n",
    "v_1 = v_2 = w_1 = w_2 = 1\n",
    "w_3 = 2, x = -0.5, sigma = 3\n",
    "$$\n",
    "\n",
    "$$\n",
    "Loss = 0.5 * (sigma - y) **2\n",
    "$$\n",
    "\n",
    "### Step 1\n",
    "compute the  ouputs of the neurons for the first layer\n",
    "\n",
    "$$\n",
    "y_1 = x \\cdot v_1 = -0.5 \\cdot v_1 = 0.5\n",
    "$$\n",
    "\n",
    "$$\n",
    "y_2  =  x \\cdot v_2  + y_1 \\cdot w_3 = -0.5 \\cdot + 1 + 0.5 + 2 = 0.5\n",
    "$$\n",
    "\n",
    "### step 2\n",
    "compute the output of the last neuron\n",
    "\n",
    "$$\n",
    "y = y_1 \\cdot w_1  + y_2 \\cdot w_2  = 0.5 \\cdot 1 + 0.5 \\cdot 1 = 1\n",
    "$$\n",
    "\n",
    "### step 3 \n",
    "compute the loss\n",
    "\n",
    "$$\n",
    "Loss = 0.5 *(sigma - y) **2 =  0.5*(3-1)**2 = 2\n",
    "$$\n",
    "\n",
    "### step 4\n",
    "compute the gradient loss\n",
    "\n",
    "$$\n",
    "\\frac{\\partial  L}{\\partial v_1} = \\frac{\\partial L}{\\partial y} * \\frac{\\partial y}{\\partial y_1} * \\frac{\\partial y_1}{\\partial v_1}\n",
    "$$\n",
    "\n",
    "$$\n",
    "\\frac {\\partial L}{\\partial v_1} = \\frac {\\partial}{\\partial  v_1} * 0.5 (sigma - y)^2 = (y - sigma) *  \\frac{\\partial y}{\\partial v_1}\n",
    "$$\n",
    "\n",
    "$$\n",
    "recall: y  = y * w_1 + y_2 * w_2\n",
    "$$\n",
    "\n",
    "$$\n",
    "\\frac {\\partial L}{\\partial v_1} = (y - sigma) * \\frac{\\partial}{\\partial v_1} * (y_1 * w_1 + y_2 * w_2)\n",
    "\n",
    "= (y - sigma) *  [w_1* \\frac{\\partial y_1}{\\partial v_1} + w_2 * \\frac{\\partial y_2}{\\partial v_1}]\n",
    "$$\n",
    "\n",
    "$$\n",
    "recall  \n",
    "y_1 = x * v_1, \\frac{\\partial y_1}{\\partial v_1} = x\n",
    "$$\n",
    "\n",
    "$$\n",
    "y_2 = x * v_2 + y_1 * w_3, \n",
    "\\frac {\\partial y_2}{\\partial v_1} = 0 + w_3 \\frac{\\partial y_1}{\\partial v_1} = w_3 * x\n",
    "$$\n",
    "\n",
    "$$\n",
    "\\frac{\\partial L}{\\partial v_1} = (y - sigma)[w_1 * x + w_2 * x] = (1 - 3)[1 * (0.5) + (1) * (2) * (-0.5)] = 3\n",
    "$$\n",
    "\n",
    "### step 4\n",
    "compute the new gradient\n",
    "\n",
    "$$\n",
    "v_1^{\\text{updated}} = v_1^{\\text{old}} - \\alpha \\cdot \\frac{\\partial L}{\\partial v_1}\n",
    "$$\n",
    "\n",
    "Updated Weight:\n",
    "\n",
    "$$\n",
    "v_1^{\\text{updated}} = 1 - 0.1 \\cdot 3 = 1 - 0.3 = 0.7\n",
    "$$\n",
    "\n",
    "\n"
   ]
  },
  {
   "cell_type": "code",
   "execution_count": 1,
   "metadata": {},
   "outputs": [
    {
     "name": "stdout",
     "output_type": "stream",
     "text": [
      "1.6\n"
     ]
    }
   ],
   "source": [
    "v_1 = 1\n",
    "v_2 = 1\n",
    "w_1 = 1\n",
    "w_2 = 1\n",
    "w_3 = 2\n",
    "alpha = 0.1\n",
    "\n",
    "x = -0.5\n",
    "sigma = 3 \n",
    "\n",
    "h_1 = x * v_1\n",
    "\n",
    "# activation function\n",
    "f_h_1 = abs(h_1)\n",
    "\n",
    "# output of first neuron\n",
    "y_1 = f_h_1\n",
    "\n",
    "\n",
    "# second neuron\n",
    "h_2 = x * v_2 + y_1 * w_3\n",
    "f_h_2 = abs(h_2)\n",
    "y_2 =  f_h_2\n",
    "\n",
    "# last layer, final neuron\n",
    "H = y_1 * w_1 + y_2 * w_2\n",
    "# output of the last neuron\n",
    "y = abs(H)\n",
    "\n",
    "# compute the loss\n",
    "Loss = 0.5*(sigma - y)**2\n",
    "\n",
    "# compute  the gradient loss at v_1\n",
    "dL_dy = -1 *(sigma - y)\n",
    "dy_dy_1 = w_1 + w_2 * w_3\n",
    "dy_1_dv_1 = v_1\n",
    "\n",
    "dL_dv_1  =  dL_dy * dy_dy_1 * dy_1_dv_1\n",
    "\n",
    "# compute the new weight for v_1\n",
    "updated_v1 = v_1 - alpha * dL_dv_1\n",
    "print(updated_v1)"
   ]
  },
  {
   "cell_type": "markdown",
   "metadata": {},
   "source": [
    "### Task 2 Variant 3"
   ]
  },
  {
   "cell_type": "markdown",
   "metadata": {},
   "source": [
    "![](variant_3.png)"
   ]
  },
  {
   "cell_type": "markdown",
   "metadata": {},
   "source": [
    "### Description"
   ]
  },
  {
   "cell_type": "markdown",
   "metadata": {},
   "source": [
    "### First the constants\n",
    "$$\n",
    "x = 0.5, v_1 = 1, v_2 = -2, w_1 = 1, w_2 = -1\n",
    "$$\n",
    "\n",
    "### step 1\n",
    "compute the output of the neuron in the first layer\n",
    "\n",
    "$$\n",
    "h_1 = x \\cdot v_1 = 0.5 \\cdot 1 = 0.5\n",
    "$$\n",
    "\n",
    "$$\n",
    "h_2 = x \\cdot v_2 = 0.5 \\cdot -2 = -1\n",
    "$$\n",
    "\n",
    "\n",
    "### activations\n",
    "$$\n",
    "y_1 = 0.5 \\cdot (0.5 + 1) = 0.75\n",
    "$$\n",
    "\n",
    "$$\n",
    "y_2 = 0 ; \n",
    "[because the input into the neuron is negative]\n",
    "$$\n",
    "\n",
    "### Step 2\n",
    "compute the input into the last neuron\n",
    "\n",
    "$$\n",
    "H = y_1 \\cdot w_1 + y_2 \\cdot w_2,\n",
    "\n",
    "= 0.75 \\cdot 1 + 0 = 0.75\n",
    "$$\n",
    "\n",
    "### step 3\n",
    "compute the probability\n",
    "\n",
    "$$\n",
    "p(0.75) = 0.5  \\cdot (0.75 + 1) = 0.875\n",
    "$$\n",
    "\n",
    "### step 4\n",
    "compute the mathematical expectation\n",
    "\n",
    "$$\n",
    "E[Y] = 2 \\cdot p(h) - 1 = 2 \\cdot (0.875) -  1 = 0.75\n",
    "$$"
   ]
  },
  {
   "cell_type": "code",
   "execution_count": 19,
   "metadata": {},
   "outputs": [
    {
     "data": {
      "text/plain": [
       "1"
      ]
     },
     "execution_count": 19,
     "metadata": {},
     "output_type": "execute_result"
    }
   ],
   "source": [
    "v_1 = 1\n",
    "v_2 = -2\n",
    "w_1 = 1\n",
    "w_2 = -1\n",
    "alpha = 0.1\n",
    "\n",
    "x = 0.5\n",
    "\n",
    "h_1 = x * v_1\n",
    "\n",
    "# activation function\n",
    "def activation_function(x):\n",
    "    if x <= -1:\n",
    "        return 0\n",
    "    elif (x < -1 and x <=1):\n",
    "        return 0.5 * (x + 1)\n",
    "    else:\n",
    "        return 1\n",
    "f_h_1 = activation_function(h_1)\n",
    "\n",
    "# output of first neuron\n",
    "y_1 = f_h_1\n",
    "\n",
    "\n",
    "# second neuron\n",
    "h_2 = x * v_2 \n",
    "f_h_2 = activation_function(h_2)\n",
    "y_2 =  f_h_2\n",
    "\n",
    "# last layer, final neuron\n",
    "H = y_1 * w_1 + y_2 * w_2\n",
    "# output of the last neuron\n",
    "p_h = activation_function(H)\n",
    "\n",
    "\n",
    "# compute the expectation of the final neuron\n",
    "\n",
    "expectation = 2 * p_h - 1\n",
    "expectation"
   ]
  },
  {
   "cell_type": "code",
   "execution_count": 20,
   "metadata": {},
   "outputs": [
    {
     "data": {
      "text/plain": [
       "(1, 1, -1, 0)"
      ]
     },
     "execution_count": 20,
     "metadata": {},
     "output_type": "execute_result"
    }
   ],
   "source": [
    "y_1, w_1, w_2, y_2"
   ]
  },
  {
   "cell_type": "code",
   "execution_count": 21,
   "metadata": {},
   "outputs": [
    {
     "data": {
      "text/plain": [
       "1"
      ]
     },
     "execution_count": 21,
     "metadata": {},
     "output_type": "execute_result"
    }
   ],
   "source": [
    "f_h_1"
   ]
  },
  {
   "cell_type": "code",
   "execution_count": 9,
   "metadata": {},
   "outputs": [
    {
     "data": {
      "text/plain": [
       "1"
      ]
     },
     "execution_count": 9,
     "metadata": {},
     "output_type": "execute_result"
    }
   ],
   "source": [
    "p_h"
   ]
  },
  {
   "cell_type": "code",
   "execution_count": 11,
   "metadata": {},
   "outputs": [
    {
     "data": {
      "text/plain": [
       "1"
      ]
     },
     "execution_count": 11,
     "metadata": {},
     "output_type": "execute_result"
    }
   ],
   "source": [
    "y_1"
   ]
  },
  {
   "cell_type": "code",
   "execution_count": null,
   "metadata": {},
   "outputs": [],
   "source": []
  },
  {
   "cell_type": "markdown",
   "metadata": {},
   "source": [
    "### Task 3, Variant 5"
   ]
  },
  {
   "cell_type": "markdown",
   "metadata": {},
   "source": [
    "![](variant_5.png)"
   ]
  },
  {
   "cell_type": "markdown",
   "metadata": {},
   "source": [
    "### the constants\n",
    "$$\n",
    "v_12 = v_21 = w_1 = 1,\n",
    "v_11 = v_22 = w_3 = 2,\n",
    "w_2 = -1,\n",
    "x_1 = 0.5,\n",
    "x_2 = -0.5,\n",
    "sigma = 1\n",
    "$$\n",
    "\n",
    "### step 1\n",
    "compute the output in the first layer\n",
    "\n",
    "$$\n",
    "h_1 = x_1 \\cdot v_11 + x_2 \\cdot v_12 = (0.5) \\cdot (2) + (-0.5) \\cdot (1) = 0.5\n",
    "$$\n",
    "\n",
    "compute the activation for the first neuron\n",
    "$$\n",
    "y_1 = f(h_1) = f(0.5) = 0.5 \n",
    "$$\n",
    "\n",
    "$$\n",
    "h_2 = x_1 \\cdot v_21 + x_2 \\cdot v_22 + y_1 \\cdot w_3  = 0.5 \\cdot (1) + (-0.5) \\cdot (2) + (0.5) \\cdot (2) = 0.5\n",
    "$$\n",
    "\n",
    "compute the activation of the second neuron\n",
    "$$\n",
    "y_2 = f(h_2) = f(0.5) = 0.5\n",
    "$$\n",
    "\n",
    "### step 2 \n",
    "compute the input to last neuron\n",
    "\n",
    "$$\n",
    "H = y_1 \\cdot w_1 + y_2  \\cdot w_2 = 0.5  \\cdot (1)  + (0.5) \\cdot (-1) = 0\n",
    "$$\n",
    "\n",
    "compute the activation of the last neuron\n",
    "$$\n",
    "y = f(0) = \\frac{1}{1 + e^0} = 0.5\n",
    "$$\n",
    "\n",
    "### step 3\n",
    "compute the loss\n",
    "\n",
    "$$\n",
    "Loss = -(\\sigma \\cdot lny + (1 - \\sigma) \\cdot ln(1-y)) = -(1 \\cdot ln(0.5) + 0) = 0.693\n",
    "$$\n",
    "\n",
    "\n",
    "### step 4\n",
    "compute the gradient loss\n",
    "\n",
    "$$\n",
    "\\frac{\\partial L}{\\partial v11} = \\frac {\\partial}{\\partial v11} \\cdot [-(\\sigma \\cdot lny + (1-\\sigma)ln(1-y))] = - \\frac {\\partial}{\\partial v11} \\cdot lny - (1-\\sigma) \\cdot \\frac {\\partial}{\\partial  v11} \\cdot ln(1-y)\n",
    "$$\n",
    "\n",
    "$$\n",
    "\\frac {\\partial L}{\\partial v11} = - \\frac {\\sigma}{y} \\cdot \\frac {\\partial y}{\\partial v11} + \\frac {(1-\\sigma)}{(1-y)} \\cdot \\frac {\\partial y}{\\partial v11}\n",
    "$$\n",
    "\n",
    "recall : \n",
    "$$\n",
    "y = y_1 \\cdot w_1 + y_2 \\dot w_2\n",
    "$$\n",
    "\n",
    "$$\n",
    "\\frac {\\partial L}{\\partial v11} = - \\frac {\\sigma}{y} \\cdot \\frac {\\partial}{\\partial v_11}[y_1 \\cdot w_1 + y_2 \\cdot w_2] + \\frac {(1-\\sigma)}{(1-y)} \\cdot [w_1 \\cdot \\frac {\\partial y_1}{\\partial v_11} + w_2 \\cdot \\frac {\\partial y_2}{\\partial v_11}]\n",
    "$$\n",
    "\n",
    "recall :\n",
    "\n",
    "$$\n",
    "y_1 = x_1 \\cdot v11 + x_2 \\cdot v12\n",
    "$$\n",
    "\n",
    "$$\n",
    "\\frac {\\partial y_1}{\\partial v11} = x_1\n",
    "$$\n",
    "\n",
    "$$\n",
    "y_2 = x_1 \\cdot v21 +  x_2 \\cdot v22 + y_1 \\cdot w_3\n",
    "$$\n",
    "\n",
    "\n",
    "$$\n",
    "\\frac {\\partial y_2}{\\partial v11} = 0 + 0 + w_3 \\cdot \\frac {\\partial y_1}{\\partial v11} = w_3 \\cdot \\frac {\\partial y_1}{\\partial v11}  = w_3 \\cdot x_1\n",
    "$$\n",
    "\n",
    "\n",
    "\n",
    "$$\n",
    "\\frac {\\partial L}{\\partial v11} = - \\frac {\\sigma}{y} \\cdot [w_1 \\cdot x_1 + w_2 \\cdot w_3 \\cdot x_1] + [\\frac {(1-\\sigma)}{(1-y)}] \\cdot [w_1 \\cdot x_1 + w_2 \\cdot w_3 \\cdot x_1] \n",
    "$$\n",
    "\n",
    "$$\n",
    "= [w_1 \\cdot x_1 + w_2 \\cdot w_3 \\cdot x_1][\\frac {(1-\\sigma)}{(1-y)} - \\frac {\\sigma}{y}] = [1(0.5) + (-1)*(2)*(0.5)][0- \\frac {1}{0.5}] = 1\n",
    "$$\n",
    "\n",
    "### step 5\n",
    "compute the updated weight of v11\n",
    "\n",
    "$$\n",
    "v11^{\\text{updated}} = v11^{\\text{old}} - \\alpha \\cdot \\frac{\\partial L}{\\partial v_1}\n",
    "$$\n",
    "\n",
    "Updated Weight:\n",
    "\n",
    "$$\n",
    "v11^{\\text{updated}} = 1 - 0.1 \\cdot 1 = 1 - 0.1 = 0.9\n",
    "$$\n"
   ]
  },
  {
   "cell_type": "markdown",
   "metadata": {},
   "source": []
  }
 ],
 "metadata": {
  "kernelspec": {
   "display_name": "base",
   "language": "python",
   "name": "python3"
  },
  "language_info": {
   "codemirror_mode": {
    "name": "ipython",
    "version": 3
   },
   "file_extension": ".py",
   "mimetype": "text/x-python",
   "name": "python",
   "nbconvert_exporter": "python",
   "pygments_lexer": "ipython3",
   "version": "3.11.5"
  }
 },
 "nbformat": 4,
 "nbformat_minor": 2
}
