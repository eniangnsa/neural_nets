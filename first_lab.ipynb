{
 "cells": [
  {
   "cell_type": "code",
   "execution_count": null,
   "metadata": {},
   "outputs": [],
   "source": []
  },
  {
   "cell_type": "markdown",
   "metadata": {},
   "source": [
    "###  Task 1 and Variant 1"
   ]
  },
  {
   "cell_type": "markdown",
   "metadata": {},
   "source": [
    "![](image_1.jpg)"
   ]
  },
  {
   "cell_type": "markdown",
   "metadata": {},
   "source": [
    "### Description of what i did."
   ]
  },
  {
   "cell_type": "code",
   "execution_count": 1,
   "metadata": {},
   "outputs": [
    {
     "name": "stdout",
     "output_type": "stream",
     "text": [
      "1.6\n"
     ]
    }
   ],
   "source": [
    "v_1 = 1\n",
    "v_2 = 1\n",
    "w_1 = 1\n",
    "w_2 = 1\n",
    "w_3 = 2\n",
    "alpha = 0.1\n",
    "\n",
    "x = -0.5\n",
    "sigma = 3 \n",
    "\n",
    "h_1 = x * v_1\n",
    "\n",
    "# activation function\n",
    "f_h_1 = abs(h_1)\n",
    "\n",
    "# output of first neuron\n",
    "y_1 = f_h_1\n",
    "\n",
    "\n",
    "# second neuron\n",
    "h_2 = x * v_2 + y_1 * w_3\n",
    "f_h_2 = abs(h_2)\n",
    "y_2 =  f_h_2\n",
    "\n",
    "# last layer, final neuron\n",
    "H = y_1 * w_1 + y_2 * w_2\n",
    "# output of the last neuron\n",
    "y = abs(H)\n",
    "\n",
    "# compute the loss\n",
    "Loss = 0.5*(sigma - y)**2\n",
    "\n",
    "# compute  the gradient loss at v_1\n",
    "dL_dy = -1 *(sigma - y)\n",
    "dy_dy_1 = w_1 + w_2 * w_3\n",
    "dy_1_dv_1 = v_1\n",
    "\n",
    "dL_dv_1  =  dL_dy * dy_dy_1 * dy_1_dv_1\n",
    "\n",
    "# compute the new weight for v_1\n",
    "updated_v1 = v_1 - alpha * dL_dv_1\n",
    "print(updated_v1)"
   ]
  },
  {
   "cell_type": "markdown",
   "metadata": {},
   "source": [
    "### Task 2 Variant 3"
   ]
  },
  {
   "cell_type": "markdown",
   "metadata": {},
   "source": [
    "### Description"
   ]
  },
  {
   "cell_type": "markdown",
   "metadata": {},
   "source": [
    "![](image_2.jpg)"
   ]
  },
  {
   "cell_type": "code",
   "execution_count": 19,
   "metadata": {},
   "outputs": [
    {
     "data": {
      "text/plain": [
       "1"
      ]
     },
     "execution_count": 19,
     "metadata": {},
     "output_type": "execute_result"
    }
   ],
   "source": [
    "v_1 = 1\n",
    "v_2 = -2\n",
    "w_1 = 1\n",
    "w_2 = -1\n",
    "alpha = 0.1\n",
    "\n",
    "x = 0.5\n",
    "\n",
    "h_1 = x * v_1\n",
    "\n",
    "# activation function\n",
    "def activation_function(x):\n",
    "    if x <= -1:\n",
    "        return 0\n",
    "    elif (x < -1 and x <=1):\n",
    "        return 0.5 * (x + 1)\n",
    "    else:\n",
    "        return 1\n",
    "f_h_1 = activation_function(h_1)\n",
    "\n",
    "# output of first neuron\n",
    "y_1 = f_h_1\n",
    "\n",
    "\n",
    "# second neuron\n",
    "h_2 = x * v_2 \n",
    "f_h_2 = activation_function(h_2)\n",
    "y_2 =  f_h_2\n",
    "\n",
    "# last layer, final neuron\n",
    "H = y_1 * w_1 + y_2 * w_2\n",
    "# output of the last neuron\n",
    "p_h = activation_function(H)\n",
    "\n",
    "\n",
    "# compute the expectation of the final neuron\n",
    "\n",
    "expectation = 2 * p_h - 1\n",
    "expectation"
   ]
  },
  {
   "cell_type": "code",
   "execution_count": 20,
   "metadata": {},
   "outputs": [
    {
     "data": {
      "text/plain": [
       "(1, 1, -1, 0)"
      ]
     },
     "execution_count": 20,
     "metadata": {},
     "output_type": "execute_result"
    }
   ],
   "source": [
    "y_1, w_1, w_2, y_2"
   ]
  },
  {
   "cell_type": "code",
   "execution_count": 21,
   "metadata": {},
   "outputs": [
    {
     "data": {
      "text/plain": [
       "1"
      ]
     },
     "execution_count": 21,
     "metadata": {},
     "output_type": "execute_result"
    }
   ],
   "source": [
    "f_h_1"
   ]
  },
  {
   "cell_type": "code",
   "execution_count": 9,
   "metadata": {},
   "outputs": [
    {
     "data": {
      "text/plain": [
       "1"
      ]
     },
     "execution_count": 9,
     "metadata": {},
     "output_type": "execute_result"
    }
   ],
   "source": [
    "p_h"
   ]
  },
  {
   "cell_type": "code",
   "execution_count": 11,
   "metadata": {},
   "outputs": [
    {
     "data": {
      "text/plain": [
       "1"
      ]
     },
     "execution_count": 11,
     "metadata": {},
     "output_type": "execute_result"
    }
   ],
   "source": [
    "y_1"
   ]
  },
  {
   "cell_type": "code",
   "execution_count": null,
   "metadata": {},
   "outputs": [],
   "source": []
  },
  {
   "cell_type": "markdown",
   "metadata": {},
   "source": [
    "### Task 3, Variant 5"
   ]
  },
  {
   "cell_type": "markdown",
   "metadata": {},
   "source": [
    "![](image_3.jpg)"
   ]
  },
  {
   "cell_type": "markdown",
   "metadata": {},
   "source": []
  }
 ],
 "metadata": {
  "kernelspec": {
   "display_name": "base",
   "language": "python",
   "name": "python3"
  },
  "language_info": {
   "codemirror_mode": {
    "name": "ipython",
    "version": 3
   },
   "file_extension": ".py",
   "mimetype": "text/x-python",
   "name": "python",
   "nbconvert_exporter": "python",
   "pygments_lexer": "ipython3",
   "version": "3.11.5"
  }
 },
 "nbformat": 4,
 "nbformat_minor": 2
}
